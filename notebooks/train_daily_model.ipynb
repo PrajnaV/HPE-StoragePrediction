{
 "cells": [
  {
   "cell_type": "code",
   "execution_count": 34,
   "id": "517ba00a-1223-4b9c-840c-d0ef17d8cc15",
   "metadata": {},
   "outputs": [],
   "source": [
    "import numpy as np\n",
    "import pandas as pd\n",
    "from sklearn.preprocessing import MinMaxScaler\n",
    "from sklearn.metrics import mean_absolute_error, mean_squared_error\n",
    "import matplotlib.pyplot as plt\n",
    "from tensorflow.keras.models import Sequential\n",
    "from tensorflow.keras.layers import LSTM, Dense, Dropout,Input\n",
    "from tensorflow.keras.callbacks import EarlyStopping\n",
    "import joblib\n",
    "import os\n",
    "from dotenv import load_dotenv\n"
   ]
  },
  {
   "cell_type": "code",
   "execution_count": 35,
   "id": "3ea76b7e-99eb-4a71-b6a6-962a86394f07",
   "metadata": {},
   "outputs": [],
   "source": [
    "from pymongo import MongoClient\n",
    "\n",
    "load_dotenv()\n",
    "client = os.getenv(\"MONGO_URI\")\n",
    "client = MongoClient(client)\n",
    "db = client[\"storage_simulation\"]\n",
    "collection = db[\"usage_logs\"]\n",
    "\n"
   ]
  },
  {
   "cell_type": "code",
   "execution_count": 36,
   "id": "37080c16-ea43-44e4-9856-ab32efd88f0f",
   "metadata": {},
   "outputs": [],
   "source": [
    "# Fetch all documents from the collection\n",
    "cursor = collection.find()\n",
    "\n",
    "# Convert to DataFrame\n",
    "df = pd.DataFrame(list(cursor))\n",
    "# Drop the '_id' column\n",
    "df = df.drop(columns=['_id'])\n",
    "\n",
    "# Convert 'timestamp' to datetime\n",
    "df['timestamp'] = pd.to_datetime(df['timestamp'])\n",
    "\n",
    "# Sort by timestamp (optional but good for plotting)\n",
    "df = df.sort_values(by='timestamp')"
   ]
  },
  {
   "cell_type": "code",
   "execution_count": 37,
   "id": "ea66deaf-304e-4c5b-a4a6-75783f1baa43",
   "metadata": {},
   "outputs": [],
   "source": [
    "info_df = df[df['directory'] == '/info'].copy()\n",
    "customer_df = df[df['directory'] == '/customer'].copy()\n",
    "scratch_df = df[df['directory'] == '/scratch'].copy()\n",
    "projects_df = df[df['directory'] == '/projects'].copy()"
   ]
  },
  {
   "cell_type": "code",
   "execution_count": 38,
   "id": "9a48e8b7-3956-458f-b952-10f1cd854145",
   "metadata": {},
   "outputs": [],
   "source": [
    "def create_sequences_singlestep(data, sequence_length):\n",
    "    X, y = [], []\n",
    "    for i in range(len(data) - sequence_length):\n",
    "        X.append(data[i:i + sequence_length])\n",
    "        y.append(data[i + sequence_length])  # Just one value\n",
    "    return np.array(X), np.array(y)"
   ]
  },
  {
   "cell_type": "code",
   "execution_count": 39,
   "id": "32cfba55-6b2e-4b40-a980-320912ae26cf",
   "metadata": {},
   "outputs": [],
   "source": [
    "def build_lstm_model_singlestep(input_shape):\n",
    "    model = Sequential([\n",
    "        Input(shape=input_shape),\n",
    "        LSTM(64, return_sequences=True),\n",
    "        Dropout(0.25),\n",
    "        LSTM(32),\n",
    "        Dropout(0.2),\n",
    "        Dense(1)\n",
    "    ])\n",
    "    model.compile(optimizer='adam', loss='mse', metrics=['mae'])\n",
    "    return model"
   ]
  },
  {
   "cell_type": "code",
   "execution_count": 40,
   "id": "fd3a6aa4-172e-4e9c-a2c9-fbf427d3e0f6",
   "metadata": {},
   "outputs": [],
   "source": [
    "def train_single_step_forecast_model(df, dir_name, sequence_length=96):\n",
    "\n",
    "    print(f\"\\n📁 Processing directory: {dir_name} (Single-Step Forecast)\")\n",
    "\n",
    "    # Step 1: Preprocessing\n",
    "    df.set_index('timestamp', inplace=True)\n",
    "    df = df[['storage_gb']]\n",
    "    scaler = MinMaxScaler()\n",
    "    scaled_data = scaler.fit_transform(df.values).flatten()\n",
    "\n",
    "\n",
    "    X, y = create_sequences_singlestep(scaled_data, sequence_length)\n",
    "    X = X.reshape((X.shape[0], X.shape[1], 1))  # LSTM expects 3D\n",
    "    y = y.reshape(-1, 1)\n",
    "\n",
    "    # Step 3: Train-test split\n",
    "    split_idx = int(len(X) * 0.8)\n",
    "    X_train, y_train = X[:split_idx], y[:split_idx]\n",
    "    X_test, y_test = X[split_idx:], y[split_idx:]\n",
    "\n",
    "    input_shape = (X_train.shape[1], X_train.shape[2])\n",
    "    model = build_lstm_model_singlestep(input_shape)\n",
    "\n",
    "    # Step 5: Training\n",
    "    early_stop = EarlyStopping(monitor='val_loss', patience=10, restore_best_weights=True)\n",
    "    history = model.fit(\n",
    "        X_train, y_train,\n",
    "        validation_split=0.2,\n",
    "        epochs=100,\n",
    "        batch_size=16,\n",
    "        callbacks=[early_stop],\n",
    "        verbose=0\n",
    "    )\n",
    "\n",
    "    # Step 6: Prediction\n",
    "    y_pred = model.predict(X_test)\n",
    "    y_pred_original = scaler.inverse_transform(y_pred)\n",
    "    y_test_original = scaler.inverse_transform(y_test)\n",
    "\n",
    "    # Step 7: Metrics\n",
    "    mae = mean_absolute_error(y_test_original, y_pred_original)\n",
    "    rmse = np.sqrt(mean_squared_error(y_test_original, y_pred_original))\n",
    "    data_range = y_test_original.max() - y_test_original.min()\n",
    "    nmae = mae / data_range\n",
    "    nrmse = rmse / data_range\n",
    "\n",
    "    print(f\"📊 {dir_name.upper()} - MAE: {mae:.2f} GB\")\n",
    "    print(f\"📊 {dir_name.upper()} - RMSE: {rmse:.2f} GB\")\n",
    "    print(f\"📊 {dir_name.upper()} - Normalized MAE: {nmae:.4f}\")\n",
    "    print(f\"📊 {dir_name.upper()} - Normalized RMSE: {nrmse:.4f}\")\n",
    "    print(\"-\" * 50)\n",
    "\n",
    "    # Step 8: Plot\n",
    "    plt.figure(figsize=(12, 5))\n",
    "    plt.plot(y_test_original, label='Actual')\n",
    "    plt.plot(y_pred_original, label='Predicted')\n",
    "    plt.title(f\"{dir_name.upper()} - Single-Step Forecast (Next Day End)\")\n",
    "    plt.xlabel(\"Test Sample Index\")\n",
    "    plt.ylabel(\"Storage (GB)\")\n",
    "    plt.legend()\n",
    "    plt.grid(True)\n",
    "    plt.tight_layout()\n",
    "    plt.show()\n",
    "\n",
    "\n",
    "    models = os.path.abspath(os.path.join(os.getcwd(), '..', 'models'))\n",
    "    os.makedirs(models, exist_ok=True)\n",
    "    model.save(os.path.join(models, f\"{name}_daily_forecast_model.keras\"))\n",
    "\n",
    "    scalers = os.path.abspath(os.path.join(os.getcwd(), '..', 'scalers'))\n",
    "    os.makedirs(scalers, exist_ok=True)\n",
    "    scaler_file_path = os.path.join(scalers, f\"{name}_daily_scaler.pkl\")\n",
    "    joblib.dump(scaler, scaler_file_path)\n",
    "\n"
   ]
  },
  {
   "cell_type": "code",
   "execution_count": null,
   "id": "94a5692f-0812-4da1-9546-f5d0a3220a33",
   "metadata": {},
   "outputs": [
    {
     "name": "stdout",
     "output_type": "stream",
     "text": [
      "\n",
      "📁 Processing directory: Project (Single-Step Forecast)\n"
     ]
    }
   ],
   "source": [
    "train_single_step_forecast_model(projects_df.copy(), dir_name='Project')"
   ]
  },
  {
   "cell_type": "code",
   "execution_count": null,
   "id": "e843d913-a94f-4609-8d0e-d78f29ffbfcd",
   "metadata": {},
   "outputs": [],
   "source": [
    "train_single_step_forecast_model(customer_df.copy(), dir_name='Customer')"
   ]
  },
  {
   "cell_type": "code",
   "execution_count": null,
   "id": "279c4efd-ebc9-4760-a8fa-d823e2e2ca2b",
   "metadata": {},
   "outputs": [],
   "source": [
    "train_single_step_forecast_model(scratch_df.copy(), dir_name='Scratch')"
   ]
  },
  {
   "cell_type": "code",
   "execution_count": null,
   "id": "9db0a088-91a9-4188-be40-8a938d681b89",
   "metadata": {},
   "outputs": [],
   "source": [
    "train_single_step_forecast_model(info_df.copy(), dir_name='Info')"
   ]
  },
  {
   "cell_type": "code",
   "execution_count": null,
   "id": "ef500ad9-2c87-4bdd-acbc-05e740e21d4a",
   "metadata": {},
   "outputs": [],
   "source": []
  }
 ],
 "metadata": {
  "kernelspec": {
   "display_name": "Python 3 (ipykernel)",
   "language": "python",
   "name": "python3"
  },
  "language_info": {
   "codemirror_mode": {
    "name": "ipython",
    "version": 3
   },
   "file_extension": ".py",
   "mimetype": "text/x-python",
   "name": "python",
   "nbconvert_exporter": "python",
   "pygments_lexer": "ipython3",
   "version": "3.10.0"
  }
 },
 "nbformat": 4,
 "nbformat_minor": 5
}
